{
 "cells": [
  {
   "cell_type": "code",
   "execution_count": 1,
   "id": "1dc43a86",
   "metadata": {},
   "outputs": [],
   "source": [
    "import sys"
   ]
  },
  {
   "cell_type": "code",
   "execution_count": 2,
   "id": "bace8fa2",
   "metadata": {},
   "outputs": [
    {
     "name": "stdout",
     "output_type": "stream",
     "text": [
      "3.8.10 (default, Nov 26 2021, 20:14:08) \n",
      "[GCC 9.3.0]\n"
     ]
    }
   ],
   "source": [
    "print(sys.version)"
   ]
  },
  {
   "cell_type": "code",
   "execution_count": 3,
   "id": "d286166d",
   "metadata": {},
   "outputs": [],
   "source": [
    "import platform"
   ]
  },
  {
   "cell_type": "code",
   "execution_count": 4,
   "id": "2d253be2",
   "metadata": {},
   "outputs": [
    {
     "data": {
      "text/plain": [
       "'3.8.10'"
      ]
     },
     "execution_count": 4,
     "metadata": {},
     "output_type": "execute_result"
    }
   ],
   "source": [
    "platform.python_version()"
   ]
  },
  {
   "cell_type": "markdown",
   "id": "68910dc1",
   "metadata": {},
   "source": [
    "# NUMPY"
   ]
  },
  {
   "cell_type": "code",
   "execution_count": 10,
   "id": "64225cd5",
   "metadata": {},
   "outputs": [],
   "source": [
    "import numpy as np"
   ]
  },
  {
   "cell_type": "code",
   "execution_count": 21,
   "id": "c1c854e7",
   "metadata": {},
   "outputs": [
    {
     "name": "stdout",
     "output_type": "stream",
     "text": [
      "[[1 2 3]\n",
      " [4 5 6]\n",
      " [7 8 9]]\n"
     ]
    }
   ],
   "source": [
    "import numpy as np\n",
    "a = np.array([(1,2,3),(4,5,6),(7,8,9)], dtype = int)\n",
    "print(a)\n"
   ]
  },
  {
   "cell_type": "code",
   "execution_count": 3,
   "id": "7e74111e",
   "metadata": {},
   "outputs": [],
   "source": [
    "distance = [10, 20, 30, 40, 50]\n",
    "time = [0.30, 0.40, 0.50, 0.60, 0.70]"
   ]
  },
  {
   "cell_type": "code",
   "execution_count": 4,
   "id": "62ee95f4",
   "metadata": {},
   "outputs": [],
   "source": [
    "np_distance = np.array(distance)\n",
    "np_time = np.array(time)"
   ]
  },
  {
   "cell_type": "code",
   "execution_count": 5,
   "id": "6b674cfd",
   "metadata": {},
   "outputs": [],
   "source": [
    "speed = np_distance/np_time"
   ]
  },
  {
   "cell_type": "code",
   "execution_count": 6,
   "id": "84963d11",
   "metadata": {},
   "outputs": [
    {
     "data": {
      "text/plain": [
       "array([33.33333333, 50.        , 60.        , 66.66666667, 71.42857143])"
      ]
     },
     "execution_count": 6,
     "metadata": {},
     "output_type": "execute_result"
    }
   ],
   "source": [
    "speed"
   ]
  },
  {
   "cell_type": "code",
   "execution_count": 9,
   "id": "19976ab1",
   "metadata": {},
   "outputs": [],
   "source": [
    "first_numpy_array = np.array([1,2,3,4])"
   ]
  },
  {
   "cell_type": "code",
   "execution_count": 10,
   "id": "529f9196",
   "metadata": {},
   "outputs": [
    {
     "name": "stdout",
     "output_type": "stream",
     "text": [
      "[1 2 3 4]\n"
     ]
    }
   ],
   "source": [
    "print(first_numpy_array)"
   ]
  },
  {
   "cell_type": "code",
   "execution_count": null,
   "id": "c6afe232",
   "metadata": {},
   "outputs": [],
   "source": [
    "array_with_zeros = np.zeros((3,3))"
   ]
  },
  {
   "cell_type": "code",
   "execution_count": 12,
   "id": "95aeb9db",
   "metadata": {},
   "outputs": [
    {
     "name": "stdout",
     "output_type": "stream",
     "text": [
      "[[0. 0. 0.]\n",
      " [0. 0. 0.]\n",
      " [0. 0. 0.]]\n"
     ]
    }
   ],
   "source": [
    "print(array_with_zeros)"
   ]
  },
  {
   "cell_type": "code",
   "execution_count": 13,
   "id": "0fb24173",
   "metadata": {},
   "outputs": [
    {
     "name": "stdout",
     "output_type": "stream",
     "text": [
      "[[1. 1. 1. 1.]\n",
      " [1. 1. 1. 1.]\n",
      " [1. 1. 1. 1.]\n",
      " [1. 1. 1. 1.]]\n"
     ]
    }
   ],
   "source": [
    "array_with_ones = np.ones((4,4))\n",
    "print(array_with_ones)"
   ]
  },
  {
   "cell_type": "code",
   "execution_count": 22,
   "id": "c6035c78",
   "metadata": {},
   "outputs": [
    {
     "name": "stdout",
     "output_type": "stream",
     "text": [
      "[[0. 0. 0.]\n",
      " [0. 0. 0.]]\n"
     ]
    }
   ],
   "source": [
    "empty_array = np.empty((2,3))\n",
    "print(empty_array)"
   ]
  },
  {
   "cell_type": "code",
   "execution_count": 26,
   "id": "793e871d",
   "metadata": {},
   "outputs": [
    {
     "name": "stdout",
     "output_type": "stream",
     "text": [
      "[ 0  1  2  3  4  5  6  7  8  9 10 11]\n"
     ]
    }
   ],
   "source": [
    "np_arange = np.arange(12) # To generate list in a given range\n",
    "print(np_arange)"
   ]
  },
  {
   "cell_type": "code",
   "execution_count": 27,
   "id": "54ebef18",
   "metadata": {},
   "outputs": [
    {
     "data": {
      "text/plain": [
       "array([[ 0,  1,  2],\n",
       "       [ 3,  4,  5],\n",
       "       [ 6,  7,  8],\n",
       "       [ 9, 10, 11]])"
      ]
     },
     "execution_count": 27,
     "metadata": {},
     "output_type": "execute_result"
    }
   ],
   "source": [
    "np_arange.reshape(4, 3) # To reshape an array."
   ]
  },
  {
   "cell_type": "code",
   "execution_count": 28,
   "id": "95b0f64b",
   "metadata": {},
   "outputs": [
    {
     "name": "stdout",
     "output_type": "stream",
     "text": [
      "[1.   2.25 3.5  4.75 6.  ]\n"
     ]
    }
   ],
   "source": [
    "np_linspace = np.linspace(1,6,5) # linspace for linearly (equal) spaced data elements\n",
    "print(np_linspace)"
   ]
  },
  {
   "cell_type": "code",
   "execution_count": 29,
   "id": "05961d1f",
   "metadata": {},
   "outputs": [],
   "source": [
    "oneD_array = np.arange(15)"
   ]
  },
  {
   "cell_type": "code",
   "execution_count": 30,
   "id": "d9101161",
   "metadata": {},
   "outputs": [
    {
     "name": "stdout",
     "output_type": "stream",
     "text": [
      "[ 0  1  2  3  4  5  6  7  8  9 10 11 12 13 14]\n"
     ]
    }
   ],
   "source": [
    "print(oneD_array)"
   ]
  },
  {
   "cell_type": "code",
   "execution_count": 32,
   "id": "2de54b99",
   "metadata": {},
   "outputs": [
    {
     "name": "stdout",
     "output_type": "stream",
     "text": [
      "[[ 0  1  2  3  4]\n",
      " [ 5  6  7  8  9]\n",
      " [10 11 12 13 14]]\n"
     ]
    }
   ],
   "source": [
    "twoD_array = oneD_array.reshape(3, 5)\n",
    "print(twoD_array)"
   ]
  },
  {
   "cell_type": "code",
   "execution_count": 38,
   "id": "c8b7648f",
   "metadata": {},
   "outputs": [
    {
     "data": {
      "text/plain": [
       "2"
      ]
     },
     "execution_count": 38,
     "metadata": {},
     "output_type": "execute_result"
    }
   ],
   "source": [
    "twoD_array.ndim # To find the dimension of the array"
   ]
  },
  {
   "cell_type": "code",
   "execution_count": 39,
   "id": "6c224f29",
   "metadata": {},
   "outputs": [
    {
     "data": {
      "text/plain": [
       "15"
      ]
     },
     "execution_count": 39,
     "metadata": {},
     "output_type": "execute_result"
    }
   ],
   "source": [
    "twoD_array.size # To find the number of elemnts in an array"
   ]
  },
  {
   "cell_type": "code",
   "execution_count": 40,
   "id": "7479d238",
   "metadata": {},
   "outputs": [
    {
     "data": {
      "text/plain": [
       "dtype('int64')"
      ]
     },
     "execution_count": 40,
     "metadata": {},
     "output_type": "execute_result"
    }
   ],
   "source": [
    "twoD_array.dtype # To find the datatype"
   ]
  },
  {
   "cell_type": "code",
   "execution_count": 36,
   "id": "405dccc1",
   "metadata": {},
   "outputs": [],
   "source": [
    "threeD_array = np.arange(27).reshape(3,3,3)"
   ]
  },
  {
   "cell_type": "code",
   "execution_count": 37,
   "id": "8cb8ced4",
   "metadata": {},
   "outputs": [
    {
     "name": "stdout",
     "output_type": "stream",
     "text": [
      "[[[ 0  1  2]\n",
      "  [ 3  4  5]\n",
      "  [ 6  7  8]]\n",
      "\n",
      " [[ 9 10 11]\n",
      "  [12 13 14]\n",
      "  [15 16 17]]\n",
      "\n",
      " [[18 19 20]\n",
      "  [21 22 23]\n",
      "  [24 25 26]]]\n"
     ]
    }
   ],
   "source": [
    "print(threeD_array)"
   ]
  },
  {
   "cell_type": "markdown",
   "id": "8f8eaa1a",
   "metadata": {},
   "source": [
    "# Numpy - Basic Operations"
   ]
  },
  {
   "cell_type": "code",
   "execution_count": 41,
   "id": "832424ea",
   "metadata": {},
   "outputs": [
    {
     "data": {
      "text/plain": [
       "65"
      ]
     },
     "execution_count": 41,
     "metadata": {},
     "output_type": "execute_result"
    }
   ],
   "source": [
    "# addition\n",
    "\n",
    "np.add(45, 20)"
   ]
  },
  {
   "cell_type": "code",
   "execution_count": 42,
   "id": "db50979a",
   "metadata": {},
   "outputs": [
    {
     "data": {
      "text/plain": [
       "10"
      ]
     },
     "execution_count": 42,
     "metadata": {},
     "output_type": "execute_result"
    }
   ],
   "source": [
    "#subtraction\n",
    "np.subtract(20, 10)"
   ]
  },
  {
   "cell_type": "code",
   "execution_count": 45,
   "id": "f7371b9f",
   "metadata": {},
   "outputs": [],
   "source": [
    "# ndarray multiplication\n",
    "\n",
    "no_of_hrs_worked_a_day = [7,3,2,6,4]\n",
    "salary_per_hr = 100\n",
    "np_daily_wage = np.array(no_of_hrs_worked_a_day)* salary_per_hr\n"
   ]
  },
  {
   "cell_type": "code",
   "execution_count": 46,
   "id": "3e3aafd9",
   "metadata": {},
   "outputs": [
    {
     "name": "stdout",
     "output_type": "stream",
     "text": [
      "[700 300 200 600 400]\n"
     ]
    }
   ],
   "source": [
    "print(np_daily_wage)"
   ]
  },
  {
   "cell_type": "code",
   "execution_count": 47,
   "id": "4ab0a160",
   "metadata": {},
   "outputs": [
    {
     "data": {
      "text/plain": [
       "2200"
      ]
     },
     "execution_count": 47,
     "metadata": {},
     "output_type": "execute_result"
    }
   ],
   "source": [
    "# Total earning of 5 days\n",
    "sum(np_daily_wage)\n"
   ]
  },
  {
   "cell_type": "markdown",
   "id": "5e6abde4",
   "metadata": {},
   "source": [
    "## Comparison Operations"
   ]
  },
  {
   "cell_type": "code",
   "execution_count": 48,
   "id": "07dbde69",
   "metadata": {},
   "outputs": [],
   "source": [
    "np_weekly_hrs = np.array([23, 43, 22, 54, 34])"
   ]
  },
  {
   "cell_type": "code",
   "execution_count": 49,
   "id": "a072f6f5",
   "metadata": {},
   "outputs": [
    {
     "data": {
      "text/plain": [
       "array([43, 54])"
      ]
     },
     "execution_count": 49,
     "metadata": {},
     "output_type": "execute_result"
    }
   ],
   "source": [
    "np_weekly_hrs[np_weekly_hrs > 40]"
   ]
  },
  {
   "cell_type": "code",
   "execution_count": 50,
   "id": "122f8103",
   "metadata": {},
   "outputs": [
    {
     "data": {
      "text/plain": [
       "array([23, 43, 22, 54, 34])"
      ]
     },
     "execution_count": 50,
     "metadata": {},
     "output_type": "execute_result"
    }
   ],
   "source": [
    "np_weekly_hrs[np_weekly_hrs!=40]"
   ]
  },
  {
   "cell_type": "markdown",
   "id": "af6eaf57",
   "metadata": {},
   "source": [
    "## Logical Operations"
   ]
  },
  {
   "cell_type": "code",
   "execution_count": 52,
   "id": "2418818f",
   "metadata": {},
   "outputs": [
    {
     "data": {
      "text/plain": [
       "array([ True,  True,  True, False,  True])"
      ]
     },
     "execution_count": 52,
     "metadata": {},
     "output_type": "execute_result"
    }
   ],
   "source": [
    "np.logical_and(np_weekly_hrs>20, np_weekly_hrs<50) "
   ]
  },
  {
   "cell_type": "code",
   "execution_count": 53,
   "id": "6949a35b",
   "metadata": {},
   "outputs": [
    {
     "data": {
      "text/plain": [
       "array([ True, False,  True, False,  True])"
      ]
     },
     "execution_count": 53,
     "metadata": {},
     "output_type": "execute_result"
    }
   ],
   "source": [
    "np.logical_not(np_weekly_hrs>35)"
   ]
  },
  {
   "cell_type": "code",
   "execution_count": 55,
   "id": "faddb316",
   "metadata": {},
   "outputs": [
    {
     "data": {
      "text/plain": [
       "array([[ True, False, False,  True,  True],\n",
       "       [ True, False, False,  True,  True]])"
      ]
     },
     "execution_count": 55,
     "metadata": {},
     "output_type": "execute_result"
    }
   ],
   "source": [
    "# To find a test score\n",
    "\n",
    "test_scores = np.array([[83, 45, 50, 71, 90], [98, 55, 46, 73, 80]])\n",
    "\n",
    "passing_score = test_scores > 60\n",
    "\n",
    "passing_score"
   ]
  },
  {
   "cell_type": "code",
   "execution_count": 56,
   "id": "a1a8302b",
   "metadata": {},
   "outputs": [
    {
     "data": {
      "text/plain": [
       "array([83, 71, 90, 98, 73, 80])"
      ]
     },
     "execution_count": 56,
     "metadata": {},
     "output_type": "execute_result"
    }
   ],
   "source": [
    "test_scores[passing_score]"
   ]
  },
  {
   "cell_type": "markdown",
   "id": "00b868cf",
   "metadata": {},
   "source": [
    "## Shape Manipulation"
   ]
  },
  {
   "cell_type": "code",
   "execution_count": 57,
   "id": "7d8b84fa",
   "metadata": {},
   "outputs": [],
   "source": [
    "new_arr = np.array([[10, 20, 30, 40, 50], [11, 21, 31, 41, 51]])"
   ]
  },
  {
   "cell_type": "code",
   "execution_count": 58,
   "id": "b8d007d2",
   "metadata": {},
   "outputs": [
    {
     "data": {
      "text/plain": [
       "array([10, 20, 30, 40, 50, 11, 21, 31, 41, 51])"
      ]
     },
     "execution_count": 58,
     "metadata": {},
     "output_type": "execute_result"
    }
   ],
   "source": [
    "new_arr.ravel() # Flatten the array or dataset"
   ]
  },
  {
   "cell_type": "code",
   "execution_count": 61,
   "id": "4905ac25",
   "metadata": {},
   "outputs": [
    {
     "data": {
      "text/plain": [
       "array([[10, 20, 30, 40, 50],\n",
       "       [11, 21, 31, 41, 51]])"
      ]
     },
     "execution_count": 61,
     "metadata": {},
     "output_type": "execute_result"
    }
   ],
   "source": [
    "new_arr.reshape(2,5)"
   ]
  },
  {
   "cell_type": "code",
   "execution_count": 65,
   "id": "5f1cbe36",
   "metadata": {},
   "outputs": [],
   "source": [
    "new_arr.resize(2,5)"
   ]
  },
  {
   "cell_type": "code",
   "execution_count": 66,
   "id": "7744b16c",
   "metadata": {},
   "outputs": [
    {
     "data": {
      "text/plain": [
       "array([[10, 20, 30, 40, 50],\n",
       "       [11, 21, 31, 41, 51]])"
      ]
     },
     "execution_count": 66,
     "metadata": {},
     "output_type": "execute_result"
    }
   ],
   "source": [
    "new_arr"
   ]
  },
  {
   "cell_type": "code",
   "execution_count": 68,
   "id": "2b6ff9b7",
   "metadata": {},
   "outputs": [
    {
     "data": {
      "text/plain": [
       "[array([[10],\n",
       "        [11]]),\n",
       " array([[20],\n",
       "        [21]]),\n",
       " array([[30],\n",
       "        [31]]),\n",
       " array([[40],\n",
       "        [41]]),\n",
       " array([[50],\n",
       "        [51]])]"
      ]
     },
     "execution_count": 68,
     "metadata": {},
     "output_type": "execute_result"
    }
   ],
   "source": [
    "np.hsplit(new_arr, 5) # Splits the array horizontally"
   ]
  },
  {
   "cell_type": "code",
   "execution_count": 70,
   "id": "6ca9291c",
   "metadata": {},
   "outputs": [],
   "source": [
    "new_arr_1 = np.array([10, 25, 7, 66, 8, 9])\n",
    "new_arr_2 = np.array([11, 32, 4, 5, 6, 90])"
   ]
  },
  {
   "cell_type": "code",
   "execution_count": 72,
   "id": "299e5f10",
   "metadata": {},
   "outputs": [
    {
     "data": {
      "text/plain": [
       "array([10, 25,  7, 66,  8,  9, 11, 32,  4,  5,  6, 90])"
      ]
     },
     "execution_count": 72,
     "metadata": {},
     "output_type": "execute_result"
    }
   ],
   "source": [
    "np.hstack((new_arr_1, new_arr_2)) # Stacks the array together"
   ]
  },
  {
   "cell_type": "code",
   "execution_count": null,
   "id": "b64ac42a",
   "metadata": {},
   "outputs": [],
   "source": []
  }
 ],
 "metadata": {
  "kernelspec": {
   "display_name": "Python 3.8.10 64-bit",
   "language": "python",
   "name": "python3"
  },
  "language_info": {
   "codemirror_mode": {
    "name": "ipython",
    "version": 3
   },
   "file_extension": ".py",
   "mimetype": "text/x-python",
   "name": "python",
   "nbconvert_exporter": "python",
   "pygments_lexer": "ipython3",
   "version": "3.8.10"
  },
  "vscode": {
   "interpreter": {
    "hash": "c36421fb7487fee7bb20fd03e743f0952fb4be22335d6089d8f8ef56fb5d49e4"
   }
  }
 },
 "nbformat": 4,
 "nbformat_minor": 5
}
