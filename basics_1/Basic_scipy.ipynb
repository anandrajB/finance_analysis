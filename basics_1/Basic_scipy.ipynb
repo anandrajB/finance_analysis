{
 "cells": [
  {
   "cell_type": "code",
   "execution_count": 1,
   "id": "5be685d0",
   "metadata": {},
   "outputs": [
    {
     "name": "stdout",
     "output_type": "stream",
     "text": [
      "Collecting scipy\n",
      "  Downloading scipy-1.8.1-cp38-cp38-win_amd64.whl (36.9 MB)\n",
      "     ---------------------------------------- 36.9/36.9 MB 7.8 MB/s eta 0:00:00\n",
      "Requirement already satisfied: numpy<1.25.0,>=1.17.3 in c:\\users\\anandraj\\appdata\\local\\programs\\python\\python38\\lib\\site-packages (from scipy) (1.22.3)\n",
      "Installing collected packages: scipy\n",
      "Successfully installed scipy-1.8.1\n"
     ]
    }
   ],
   "source": [
    "pip install scipy"
   ]
  },
  {
   "cell_type": "code",
   "execution_count": 2,
   "id": "685c13bb",
   "metadata": {},
   "outputs": [],
   "source": [
    "from scipy.integrate import quad"
   ]
  },
  {
   "cell_type": "code",
   "execution_count": 8,
   "id": "8a36f2ee",
   "metadata": {},
   "outputs": [],
   "source": [
    "def integrateFunc(x):\n",
    "    return x"
   ]
  },
  {
   "cell_type": "code",
   "execution_count": 9,
   "id": "1e356746",
   "metadata": {},
   "outputs": [
    {
     "data": {
      "text/plain": [
       "(0.5, 5.551115123125783e-15)"
      ]
     },
     "execution_count": 9,
     "metadata": {},
     "output_type": "execute_result"
    }
   ],
   "source": [
    "quad(integrateFunc, 0, 1)"
   ]
  },
  {
   "cell_type": "code",
   "execution_count": 10,
   "id": "d1a8f5a3",
   "metadata": {},
   "outputs": [],
   "source": [
    "def integrateFn(x,a,b):\n",
    "    return x*a+b"
   ]
  },
  {
   "cell_type": "code",
   "execution_count": 11,
   "id": "55954a28",
   "metadata": {},
   "outputs": [],
   "source": [
    "a = 3\n",
    "b = 2"
   ]
  },
  {
   "cell_type": "code",
   "execution_count": 13,
   "id": "377cf414",
   "metadata": {},
   "outputs": [
    {
     "data": {
      "text/plain": [
       "(3.5, 3.885780586188048e-14)"
      ]
     },
     "execution_count": 13,
     "metadata": {},
     "output_type": "execute_result"
    }
   ],
   "source": [
    "quad(integrateFn, 0, 1, args=(a,b))"
   ]
  },
  {
   "cell_type": "markdown",
   "id": "7ba0f0ea",
   "metadata": {},
   "source": [
    "## Double Integration"
   ]
  },
  {
   "cell_type": "code",
   "execution_count": 14,
   "id": "563f778b",
   "metadata": {},
   "outputs": [],
   "source": [
    "import scipy.integrate as integrate"
   ]
  },
  {
   "cell_type": "code",
   "execution_count": 15,
   "id": "8d4c276b",
   "metadata": {},
   "outputs": [],
   "source": [
    "def func(x, y):\n",
    "    return x + y"
   ]
  },
  {
   "cell_type": "code",
   "execution_count": 16,
   "id": "aeefd283",
   "metadata": {},
   "outputs": [
    {
     "data": {
      "text/plain": [
       "(3.0, 4.436070580899685e-14)"
      ]
     },
     "execution_count": 16,
     "metadata": {},
     "output_type": "execute_result"
    }
   ],
   "source": [
    "integrate.dblquad(func, 0, 1, lambda x: 0, lambda x: 2)"
   ]
  },
  {
   "cell_type": "markdown",
   "id": "2bab30a3",
   "metadata": {},
   "source": [
    "## Optimization"
   ]
  },
  {
   "cell_type": "code",
   "execution_count": 17,
   "id": "85a12b17",
   "metadata": {},
   "outputs": [],
   "source": [
    "import numpy as np\n",
    "from scipy import optimize"
   ]
  },
  {
   "cell_type": "code",
   "execution_count": 21,
   "id": "091acb6e",
   "metadata": {},
   "outputs": [],
   "source": [
    "def func(x):\n",
    "    return x**2 + 5 * np.sin(x)"
   ]
  },
  {
   "cell_type": "code",
   "execution_count": 24,
   "id": "466ea1b2",
   "metadata": {},
   "outputs": [
    {
     "name": "stdout",
     "output_type": "stream",
     "text": [
      "Optimization terminated successfully.\n",
      "         Current function value: -3.246394\n",
      "         Iterations: 5\n",
      "         Function evaluations: 18\n",
      "         Gradient evaluations: 9\n"
     ]
    }
   ],
   "source": [
    "minimaValue = optimize.minimize(func, x0=2, method='bfgs', options={'disp':True})"
   ]
  },
  {
   "cell_type": "code",
   "execution_count": 25,
   "id": "82a1e51a",
   "metadata": {},
   "outputs": [],
   "source": [
    "minimaValueWithoutOptions = optimize.minimize(func, x0=2, method='bfgs')"
   ]
  },
  {
   "cell_type": "code",
   "execution_count": 26,
   "id": "31277e74",
   "metadata": {},
   "outputs": [
    {
     "data": {
      "text/plain": [
       "      fun: -3.2463942726915125\n",
       " hess_inv: array([[0.15445863]])\n",
       "      jac: array([-4.76837158e-07])\n",
       "  message: 'Optimization terminated successfully.'\n",
       "     nfev: 18\n",
       "      nit: 5\n",
       "     njev: 9\n",
       "   status: 0\n",
       "  success: True\n",
       "        x: array([-1.11051059])"
      ]
     },
     "execution_count": 26,
     "metadata": {},
     "output_type": "execute_result"
    }
   ],
   "source": [
    "minimaValueWithoutOptions"
   ]
  },
  {
   "cell_type": "code",
   "execution_count": 27,
   "id": "6e71381c",
   "metadata": {},
   "outputs": [],
   "source": [
    "from scipy.optimize import root"
   ]
  },
  {
   "cell_type": "code",
   "execution_count": 28,
   "id": "7b353c2b",
   "metadata": {},
   "outputs": [],
   "source": [
    "def rootFunc(x):\n",
    "    return x + 3.5 * np.cos(x)"
   ]
  },
  {
   "cell_type": "code",
   "execution_count": 33,
   "id": "16113083",
   "metadata": {},
   "outputs": [],
   "source": [
    "rootValue = root(rootFunc, 0.3)"
   ]
  },
  {
   "cell_type": "code",
   "execution_count": 34,
   "id": "79d5c630",
   "metadata": {},
   "outputs": [
    {
     "data": {
      "text/plain": [
       "    fjac: array([[-1.]])\n",
       "     fun: array([2.22044605e-16])\n",
       " message: 'The solution converged.'\n",
       "    nfev: 14\n",
       "     qtf: array([-8.32223179e-13])\n",
       "       r: array([-4.28198142])\n",
       "  status: 1\n",
       " success: True\n",
       "       x: array([-1.21597614])"
      ]
     },
     "execution_count": 34,
     "metadata": {},
     "output_type": "execute_result"
    }
   ],
   "source": [
    "rootValue"
   ]
  },
  {
   "cell_type": "markdown",
   "id": "84fc5892",
   "metadata": {},
   "source": [
    "## Inverse of Matrix"
   ]
  },
  {
   "cell_type": "code",
   "execution_count": 35,
   "id": "b5d1c8f6",
   "metadata": {},
   "outputs": [],
   "source": [
    "import numpy as np\n",
    "from scipy import linalg"
   ]
  },
  {
   "cell_type": "code",
   "execution_count": 36,
   "id": "ea973bef",
   "metadata": {},
   "outputs": [
    {
     "data": {
      "text/plain": [
       "array([[11, 12],\n",
       "       [21, 22]])"
      ]
     },
     "execution_count": 36,
     "metadata": {},
     "output_type": "execute_result"
    }
   ],
   "source": [
    "matrix = np.array([[11, 12], [21, 22]])\n",
    "matrix"
   ]
  },
  {
   "cell_type": "code",
   "execution_count": 37,
   "id": "0987a96b",
   "metadata": {},
   "outputs": [
    {
     "data": {
      "text/plain": [
       "numpy.ndarray"
      ]
     },
     "execution_count": 37,
     "metadata": {},
     "output_type": "execute_result"
    }
   ],
   "source": [
    "type(matrix)"
   ]
  },
  {
   "cell_type": "code",
   "execution_count": 38,
   "id": "9fde4f73",
   "metadata": {},
   "outputs": [
    {
     "data": {
      "text/plain": [
       "array([[-2.2,  1.2],\n",
       "       [ 2.1, -1.1]])"
      ]
     },
     "execution_count": 38,
     "metadata": {},
     "output_type": "execute_result"
    }
   ],
   "source": [
    "linalg.inv(matrix)"
   ]
  },
  {
   "cell_type": "markdown",
   "id": "e58dc143",
   "metadata": {},
   "source": [
    "## Determinant for a matrix"
   ]
  },
  {
   "cell_type": "code",
   "execution_count": 39,
   "id": "0c1aded8",
   "metadata": {},
   "outputs": [
    {
     "data": {
      "text/plain": [
       "-10.000000000000028"
      ]
     },
     "execution_count": 39,
     "metadata": {},
     "output_type": "execute_result"
    }
   ],
   "source": [
    "linalg.det(matrix)"
   ]
  },
  {
   "cell_type": "markdown",
   "id": "43c3c623",
   "metadata": {},
   "source": [
    "## Solving Linear Equations"
   ]
  },
  {
   "cell_type": "code",
   "execution_count": 40,
   "id": "f9de2f97",
   "metadata": {},
   "outputs": [],
   "source": [
    "# Given Equations\n",
    "'''2x+3y+z = 21\n",
    "   -x+5y+4z = 9\n",
    "   3x+2y+9z = 6'''\n",
    "\n",
    "\n",
    "numArray = np.array([[2,3,1], [-1,5,4], [3,2,9]])\n",
    "numValues = np.array([21,9,6])"
   ]
  },
  {
   "cell_type": "code",
   "execution_count": 41,
   "id": "460a0654",
   "metadata": {},
   "outputs": [
    {
     "data": {
      "text/plain": [
       "array([ 4.95,  4.35, -1.95])"
      ]
     },
     "execution_count": 41,
     "metadata": {},
     "output_type": "execute_result"
    }
   ],
   "source": [
    "linalg.solve(numArray, numValues)"
   ]
  },
  {
   "cell_type": "markdown",
   "id": "bf2534b0",
   "metadata": {},
   "source": [
    "## Single value decomposition"
   ]
  },
  {
   "cell_type": "code",
   "execution_count": 43,
   "id": "5309500a",
   "metadata": {},
   "outputs": [
    {
     "data": {
      "text/plain": [
       "(2, 3)"
      ]
     },
     "execution_count": 43,
     "metadata": {},
     "output_type": "execute_result"
    }
   ],
   "source": [
    "numSvdArr = np.array([[3,5,1], [9,5,7]])\n",
    "numSvdArr.shape"
   ]
  },
  {
   "cell_type": "code",
   "execution_count": 44,
   "id": "6713df9b",
   "metadata": {},
   "outputs": [
    {
     "data": {
      "text/plain": [
       "(array([[-0.37879831, -0.92547925],\n",
       "        [-0.92547925,  0.37879831]]),\n",
       " array([13.38464336,  3.29413449]),\n",
       " array([[-0.7072066 , -0.4872291 , -0.51231496],\n",
       "        [ 0.19208294, -0.82977932,  0.52399467],\n",
       "        [-0.68041382,  0.27216553,  0.68041382]]))"
      ]
     },
     "execution_count": 44,
     "metadata": {},
     "output_type": "execute_result"
    }
   ],
   "source": [
    "linalg.svd(numSvdArr)"
   ]
  },
  {
   "cell_type": "markdown",
   "id": "23d8089a",
   "metadata": {},
   "source": [
    "## Eigen Values and Eigen Vectors"
   ]
  },
  {
   "cell_type": "code",
   "execution_count": 1,
   "id": "9e0f6b96",
   "metadata": {},
   "outputs": [],
   "source": [
    "import numpy as np\n",
    "from scipy import linalg"
   ]
  },
  {
   "cell_type": "code",
   "execution_count": 2,
   "id": "2f51e0fd",
   "metadata": {},
   "outputs": [],
   "source": [
    "test_rating_data = np.array([[5, 8], [7, 9]])"
   ]
  },
  {
   "cell_type": "code",
   "execution_count": 3,
   "id": "b0f610cc",
   "metadata": {},
   "outputs": [],
   "source": [
    "eigenValues, eigenVector = linalg.eig(test_rating_data)"
   ]
  },
  {
   "cell_type": "code",
   "execution_count": 4,
   "id": "4030ce9a",
   "metadata": {},
   "outputs": [],
   "source": [
    "first_eigen, second_eigen = eigenValues"
   ]
  },
  {
   "cell_type": "code",
   "execution_count": 5,
   "id": "9865242a",
   "metadata": {},
   "outputs": [
    {
     "name": "stdout",
     "output_type": "stream",
     "text": [
      "First eigen value => (-0.745966692414834+0j) === Second eigen value => (14.745966692414834+0j)\n"
     ]
    }
   ],
   "source": [
    "print(f\"First eigen value => {first_eigen} === Second eigen value => {second_eigen}\")"
   ]
  },
  {
   "cell_type": "code",
   "execution_count": 6,
   "id": "d87fafa0",
   "metadata": {},
   "outputs": [
    {
     "name": "stdout",
     "output_type": "stream",
     "text": [
      "[-0.81220939  0.58336601]\n"
     ]
    }
   ],
   "source": [
    "print(eigenVector[:, 0])"
   ]
  },
  {
   "cell_type": "code",
   "execution_count": 7,
   "id": "5e5acdec",
   "metadata": {},
   "outputs": [
    {
     "name": "stdout",
     "output_type": "stream",
     "text": [
      "[-0.63447346 -0.77294465]\n"
     ]
    }
   ],
   "source": [
    "print(eigenVector[:, 1])"
   ]
  },
  {
   "cell_type": "markdown",
   "id": "debfd286",
   "metadata": {},
   "source": [
    "## Statistics Package"
   ]
  },
  {
   "cell_type": "code",
   "execution_count": 8,
   "id": "9808cccf",
   "metadata": {},
   "outputs": [],
   "source": [
    "from scipy.stats import norm"
   ]
  },
  {
   "cell_type": "code",
   "execution_count": 15,
   "id": "f809b6c9",
   "metadata": {},
   "outputs": [
    {
     "data": {
      "text/plain": [
       "array([ 1.56275561,  1.14197304,  0.98861135, -0.21738147,  1.65424815,\n",
       "        0.37040869,  1.40978894,  1.41579459,  1.72287262,  0.49671987])"
      ]
     },
     "execution_count": 15,
     "metadata": {},
     "output_type": "execute_result"
    }
   ],
   "source": [
    "norm.rvs(loc=1, scale=1, size=10)"
   ]
  },
  {
   "cell_type": "code",
   "execution_count": 16,
   "id": "51f5f1c6",
   "metadata": {},
   "outputs": [
    {
     "data": {
      "text/plain": [
       "0.9772498680518208"
      ]
     },
     "execution_count": 16,
     "metadata": {},
     "output_type": "execute_result"
    }
   ],
   "source": [
    "norm.cdf(5, loc=1, scale=2)"
   ]
  },
  {
   "cell_type": "code",
   "execution_count": 17,
   "id": "d1add89a",
   "metadata": {},
   "outputs": [
    {
     "data": {
      "text/plain": [
       "1.0279773571668917e-18"
      ]
     },
     "execution_count": 17,
     "metadata": {},
     "output_type": "execute_result"
    }
   ],
   "source": [
    "norm.pdf(9, loc=0, scale=1) "
   ]
  },
  {
   "cell_type": "code",
   "execution_count": null,
   "id": "4a39d5cb",
   "metadata": {},
   "outputs": [],
   "source": []
  }
 ],
 "metadata": {
  "interpreter": {
   "hash": "c36421fb7487fee7bb20fd03e743f0952fb4be22335d6089d8f8ef56fb5d49e4"
  },
  "kernelspec": {
   "display_name": "Python 3.8.10 64-bit",
   "language": "python",
   "name": "python3"
  },
  "language_info": {
   "codemirror_mode": {
    "name": "ipython",
    "version": 3
   },
   "file_extension": ".py",
   "mimetype": "text/x-python",
   "name": "python",
   "nbconvert_exporter": "python",
   "pygments_lexer": "ipython3",
   "version": "3.8.10"
  }
 },
 "nbformat": 4,
 "nbformat_minor": 5
}
