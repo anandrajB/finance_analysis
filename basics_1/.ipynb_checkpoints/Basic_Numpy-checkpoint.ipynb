{
 "cells": [
  {
   "cell_type": "code",
   "execution_count": 1,
   "id": "1dc43a86",
   "metadata": {},
   "outputs": [],
   "source": [
    "import sys"
   ]
  },
  {
   "cell_type": "code",
   "execution_count": 2,
   "id": "bace8fa2",
   "metadata": {},
   "outputs": [
    {
     "name": "stdout",
     "output_type": "stream",
     "text": [
      "3.8.10 (default, Nov 26 2021, 20:14:08) \n",
      "[GCC 9.3.0]\n"
     ]
    }
   ],
   "source": [
    "print(sys.version)"
   ]
  },
  {
   "cell_type": "code",
   "execution_count": 3,
   "id": "d286166d",
   "metadata": {},
   "outputs": [],
   "source": [
    "import platform"
   ]
  },
  {
   "cell_type": "code",
   "execution_count": 4,
   "id": "2d253be2",
   "metadata": {},
   "outputs": [
    {
     "data": {
      "text/plain": [
       "'3.8.10'"
      ]
     },
     "execution_count": 4,
     "metadata": {},
     "output_type": "execute_result"
    }
   ],
   "source": [
    "platform.python_version()"
   ]
  },
  {
   "cell_type": "markdown",
   "id": "be209713",
   "metadata": {},
   "source": [
    "NUMPY"
   ]
  },
  {
   "cell_type": "code",
   "execution_count": 3,
   "id": "e679871c",
   "metadata": {},
   "outputs": [],
   "source": [
    "import numpy as np"
   ]
  },
  {
   "cell_type": "code",
   "execution_count": 4,
   "id": "0363c238",
   "metadata": {},
   "outputs": [],
   "source": [
    "distance = [10, 20, 30, 40, 50]\n",
    "time = [0.30, 0.40, 0.50, 0.60, 0.70]"
   ]
  },
  {
   "cell_type": "code",
   "execution_count": 5,
   "id": "31e1442a",
   "metadata": {},
   "outputs": [],
   "source": [
    "np_distance = np.array(distance)\n",
    "np_time = np.array(time)"
   ]
  },
  {
   "cell_type": "code",
   "execution_count": 6,
   "id": "6ebd5900",
   "metadata": {},
   "outputs": [],
   "source": [
    "speed = np_distance/np_time"
   ]
  },
  {
   "cell_type": "code",
   "execution_count": 8,
   "id": "29cfc693",
   "metadata": {},
   "outputs": [
    {
     "data": {
      "text/plain": [
       "array([33.33333333, 50.        , 60.        , 66.66666667, 71.42857143])"
      ]
     },
     "execution_count": 8,
     "metadata": {},
     "output_type": "execute_result"
    }
   ],
   "source": [
    "speed"
   ]
  },
  {
   "cell_type": "code",
   "execution_count": 9,
   "id": "ce430aa8",
   "metadata": {},
   "outputs": [],
   "source": [
    "first_numpy_array = np.array([1,2,3,4])"
   ]
  },
  {
   "cell_type": "code",
   "execution_count": 10,
   "id": "c98aff35",
   "metadata": {},
   "outputs": [
    {
     "name": "stdout",
     "output_type": "stream",
     "text": [
      "[1 2 3 4]\n"
     ]
    }
   ],
   "source": [
    "print(first_numpy_array)"
   ]
  },
  {
   "cell_type": "code",
   "execution_count": 11,
   "id": "4673c346",
   "metadata": {},
   "outputs": [],
   "source": [
    "array_with_zeros = np.zeros((3,3))"
   ]
  },
  {
   "cell_type": "code",
   "execution_count": 12,
   "id": "fbc521c4",
   "metadata": {},
   "outputs": [
    {
     "name": "stdout",
     "output_type": "stream",
     "text": [
      "[[0. 0. 0.]\n",
      " [0. 0. 0.]\n",
      " [0. 0. 0.]]\n"
     ]
    }
   ],
   "source": [
    "print(array_with_zeros)"
   ]
  },
  {
   "cell_type": "code",
   "execution_count": 13,
   "id": "6ffa81e8",
   "metadata": {},
   "outputs": [
    {
     "name": "stdout",
     "output_type": "stream",
     "text": [
      "[[1. 1. 1. 1.]\n",
      " [1. 1. 1. 1.]\n",
      " [1. 1. 1. 1.]\n",
      " [1. 1. 1. 1.]]\n"
     ]
    }
   ],
   "source": [
    "array_with_ones = np.ones((4,4))\n",
    "print(array_with_ones)"
   ]
  },
  {
   "cell_type": "code",
   "execution_count": 14,
   "id": "dbc727f3",
   "metadata": {},
   "outputs": [
    {
     "name": "stdout",
     "output_type": "stream",
     "text": [
      "[[2.70802677e-316 0.00000000e+000 0.00000000e+000]\n",
      " [0.00000000e+000 0.00000000e+000 0.00000000e+000]]\n"
     ]
    }
   ],
   "source": [
    "empty_array = np.empty((2,3))\n",
    "print(empty_array)"
   ]
  },
  {
   "cell_type": "code",
   "execution_count": 26,
   "id": "c4c690fd",
   "metadata": {},
   "outputs": [
    {
     "name": "stdout",
     "output_type": "stream",
     "text": [
      "[ 0  1  2  3  4  5  6  7  8  9 10 11]\n"
     ]
    }
   ],
   "source": [
    "np_arange = np.arange(12) # To generate list in a given range\n",
    "print(np_arange)"
   ]
  },
  {
   "cell_type": "code",
   "execution_count": 27,
   "id": "c36c043b",
   "metadata": {},
   "outputs": [
    {
     "data": {
      "text/plain": [
       "array([[ 0,  1,  2],\n",
       "       [ 3,  4,  5],\n",
       "       [ 6,  7,  8],\n",
       "       [ 9, 10, 11]])"
      ]
     },
     "execution_count": 27,
     "metadata": {},
     "output_type": "execute_result"
    }
   ],
   "source": [
    "np_arange.reshape(4, 3) # To reshape an array."
   ]
  },
  {
   "cell_type": "code",
   "execution_count": 28,
   "id": "99c935c3",
   "metadata": {},
   "outputs": [
    {
     "name": "stdout",
     "output_type": "stream",
     "text": [
      "[1.   2.25 3.5  4.75 6.  ]\n"
     ]
    }
   ],
   "source": [
    "np_linspace = np.linspace(1,6,5) # linspace for linearly (equal) spaced data elements\n",
    "print(np_linspace)"
   ]
  },
  {
   "cell_type": "code",
   "execution_count": 29,
   "id": "69b91bfd",
   "metadata": {},
   "outputs": [],
   "source": [
    "oneD_array = np.arange(15)"
   ]
  },
  {
   "cell_type": "code",
   "execution_count": 30,
   "id": "888f0fe7",
   "metadata": {},
   "outputs": [
    {
     "name": "stdout",
     "output_type": "stream",
     "text": [
      "[ 0  1  2  3  4  5  6  7  8  9 10 11 12 13 14]\n"
     ]
    }
   ],
   "source": [
    "print(oneD_array)"
   ]
  },
  {
   "cell_type": "code",
   "execution_count": 32,
   "id": "653fd43f",
   "metadata": {},
   "outputs": [
    {
     "name": "stdout",
     "output_type": "stream",
     "text": [
      "[[ 0  1  2  3  4]\n",
      " [ 5  6  7  8  9]\n",
      " [10 11 12 13 14]]\n"
     ]
    }
   ],
   "source": [
    "twoD_array = oneD_array.reshape(3, 5)\n",
    "print(twoD_array)"
   ]
  },
  {
   "cell_type": "code",
   "execution_count": 38,
   "id": "2d8cc183",
   "metadata": {},
   "outputs": [
    {
     "data": {
      "text/plain": [
       "2"
      ]
     },
     "execution_count": 38,
     "metadata": {},
     "output_type": "execute_result"
    }
   ],
   "source": [
    "twoD_array.ndim # To find the dimension of the array"
   ]
  },
  {
   "cell_type": "code",
   "execution_count": 39,
   "id": "4fe42ed4",
   "metadata": {},
   "outputs": [
    {
     "data": {
      "text/plain": [
       "15"
      ]
     },
     "execution_count": 39,
     "metadata": {},
     "output_type": "execute_result"
    }
   ],
   "source": [
    "twoD_array.size # To find the number of elemnts in an array"
   ]
  },
  {
   "cell_type": "code",
   "execution_count": 40,
   "id": "82b290a8",
   "metadata": {},
   "outputs": [
    {
     "data": {
      "text/plain": [
       "dtype('int64')"
      ]
     },
     "execution_count": 40,
     "metadata": {},
     "output_type": "execute_result"
    }
   ],
   "source": [
    "twoD_array.dtype # To find the datatype"
   ]
  },
  {
   "cell_type": "code",
   "execution_count": 36,
   "id": "8adb6fdc",
   "metadata": {},
   "outputs": [],
   "source": [
    "threeD_array = np.arange(27).reshape(3,3,3)"
   ]
  },
  {
   "cell_type": "code",
   "execution_count": 37,
   "id": "99a4dd17",
   "metadata": {},
   "outputs": [
    {
     "name": "stdout",
     "output_type": "stream",
     "text": [
      "[[[ 0  1  2]\n",
      "  [ 3  4  5]\n",
      "  [ 6  7  8]]\n",
      "\n",
      " [[ 9 10 11]\n",
      "  [12 13 14]\n",
      "  [15 16 17]]\n",
      "\n",
      " [[18 19 20]\n",
      "  [21 22 23]\n",
      "  [24 25 26]]]\n"
     ]
    }
   ],
   "source": [
    "print(threeD_array)"
   ]
  },
  {
   "cell_type": "markdown",
   "id": "63a98c38",
   "metadata": {},
   "source": [
    "# Numpy - Basic Operations"
   ]
  },
  {
   "cell_type": "code",
   "execution_count": 41,
   "id": "ea1a8e52",
   "metadata": {},
   "outputs": [
    {
     "data": {
      "text/plain": [
       "65"
      ]
     },
     "execution_count": 41,
     "metadata": {},
     "output_type": "execute_result"
    }
   ],
   "source": [
    "# addition\n",
    "\n",
    "np.add(45, 20)"
   ]
  },
  {
   "cell_type": "code",
   "execution_count": 42,
   "id": "d03656c3",
   "metadata": {},
   "outputs": [
    {
     "data": {
      "text/plain": [
       "10"
      ]
     },
     "execution_count": 42,
     "metadata": {},
     "output_type": "execute_result"
    }
   ],
   "source": [
    "#subtraction\n",
    "np.subtract(20, 10)"
   ]
  },
  {
   "cell_type": "code",
   "execution_count": 43,
   "id": "a0de2021",
   "metadata": {},
   "outputs": [],
   "source": [
    "# ndarray multiplication\n",
    "\n",
    "no_of_hrs_worked_a_day = [7,3,2,6,4]\n",
    "salary_per_hr = 100\n",
    "np_daily_wage = np.array(no_of_hrs_worked_a_day)* salary_per_hr\n"
   ]
  },
  {
   "cell_type": "code",
   "execution_count": 44,
   "id": "3898beca",
   "metadata": {},
   "outputs": [
    {
     "name": "stdout",
     "output_type": "stream",
     "text": [
      "[7 3 2 6 4 7 3 2 6 4 7 3 2 6 4 7 3 2 6 4 7 3 2 6 4 7 3 2 6 4 7 3 2 6 4 7 3\n",
      " 2 6 4 7 3 2 6 4 7 3 2 6 4 7 3 2 6 4 7 3 2 6 4 7 3 2 6 4 7 3 2 6 4 7 3 2 6\n",
      " 4 7 3 2 6 4 7 3 2 6 4 7 3 2 6 4 7 3 2 6 4 7 3 2 6 4 7 3 2 6 4 7 3 2 6 4 7\n",
      " 3 2 6 4 7 3 2 6 4 7 3 2 6 4 7 3 2 6 4 7 3 2 6 4 7 3 2 6 4 7 3 2 6 4 7 3 2\n",
      " 6 4 7 3 2 6 4 7 3 2 6 4 7 3 2 6 4 7 3 2 6 4 7 3 2 6 4 7 3 2 6 4 7 3 2 6 4\n",
      " 7 3 2 6 4 7 3 2 6 4 7 3 2 6 4 7 3 2 6 4 7 3 2 6 4 7 3 2 6 4 7 3 2 6 4 7 3\n",
      " 2 6 4 7 3 2 6 4 7 3 2 6 4 7 3 2 6 4 7 3 2 6 4 7 3 2 6 4 7 3 2 6 4 7 3 2 6\n",
      " 4 7 3 2 6 4 7 3 2 6 4 7 3 2 6 4 7 3 2 6 4 7 3 2 6 4 7 3 2 6 4 7 3 2 6 4 7\n",
      " 3 2 6 4 7 3 2 6 4 7 3 2 6 4 7 3 2 6 4 7 3 2 6 4 7 3 2 6 4 7 3 2 6 4 7 3 2\n",
      " 6 4 7 3 2 6 4 7 3 2 6 4 7 3 2 6 4 7 3 2 6 4 7 3 2 6 4 7 3 2 6 4 7 3 2 6 4\n",
      " 7 3 2 6 4 7 3 2 6 4 7 3 2 6 4 7 3 2 6 4 7 3 2 6 4 7 3 2 6 4 7 3 2 6 4 7 3\n",
      " 2 6 4 7 3 2 6 4 7 3 2 6 4 7 3 2 6 4 7 3 2 6 4 7 3 2 6 4 7 3 2 6 4 7 3 2 6\n",
      " 4 7 3 2 6 4 7 3 2 6 4 7 3 2 6 4 7 3 2 6 4 7 3 2 6 4 7 3 2 6 4 7 3 2 6 4 7\n",
      " 3 2 6 4 7 3 2 6 4 7 3 2 6 4 7 3 2 6 4]\n"
     ]
    }
   ],
   "source": [
    "print(np_daily_wage)"
   ]
  },
  {
   "cell_type": "code",
   "execution_count": null,
   "id": "d87b6658",
   "metadata": {},
   "outputs": [],
   "source": []
  }
 ],
 "metadata": {
  "kernelspec": {
   "display_name": "Python 3 (ipykernel)",
   "language": "python",
   "name": "python3"
  },
  "language_info": {
   "codemirror_mode": {
    "name": "ipython",
    "version": 3
   },
   "file_extension": ".py",
   "mimetype": "text/x-python",
   "name": "python",
   "nbconvert_exporter": "python",
   "pygments_lexer": "ipython3",
   "version": "3.8.10"
  }
 },
 "nbformat": 4,
 "nbformat_minor": 5
}
